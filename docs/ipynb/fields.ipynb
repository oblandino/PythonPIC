{
 "cells": [
  {
   "cell_type": "code",
   "execution_count": 18,
   "metadata": {
    "collapsed": true
   },
   "outputs": [],
   "source": [
    "import sympy as sp\n",
    "from sympy.physics import vector as vec\n",
    "sp.init_printing()\n",
    "vec.init_vprinting()"
   ]
  },
  {
   "cell_type": "code",
   "execution_count": 19,
   "metadata": {},
   "outputs": [
    {
     "data": {
      "text/plain": [
       "R"
      ]
     },
     "execution_count": 19,
     "metadata": {},
     "output_type": "execute_result"
    }
   ],
   "source": [
    "R = vec.ReferenceFrame('R')\n",
    "R"
   ]
  },
  {
   "cell_type": "code",
   "execution_count": 3,
   "metadata": {
    "collapsed": true
   },
   "outputs": [],
   "source": [
    "R??"
   ]
  },
  {
   "cell_type": "code",
   "execution_count": 20,
   "metadata": {},
   "outputs": [
    {
     "data": {
      "image/png": "[encoded data removed]",
      "text/latex": [
       "$$\\left ( c, \\quad \\varepsilon_{0}, \\quad \\mu_{0}\\right )$$"
      ],
      "text/plain": [
       "(c, varepsilon₀, μ₀)"
      ]
     },
     "execution_count": 20,
     "metadata": {},
     "output_type": "execute_result"
    }
   ],
   "source": [
    "x, y, z = R[0], R[1], R[2]\n",
    "# x, y, z, t = sp.symbols('x y z t', real=True)\n",
    "t = sp.symbols('t', real=True)\n",
    "c, eps, mu = sp.symbols('c varepsilon_0 mu_0')\n",
    "c, eps, mu"
   ]
  },
  {
   "cell_type": "code",
   "execution_count": 21,
   "metadata": {
    "collapsed": true
   },
   "outputs": [],
   "source": [
    "Ex= sp.Function('Ex')(x, t)\n",
    "Ey= sp.Function('Ey')(x, t)\n",
    "Ez= sp.Function('Ez')(x, t)\n",
    "Bx= 0\n",
    "By= sp.Function('By')(x, t)\n",
    "Bz= sp.Function('Bz')(x, t)"
   ]
  },
  {
   "cell_type": "code",
   "execution_count": 22,
   "metadata": {},
   "outputs": [
    {
     "data": {
      "image/png": "[encoded data removed]",
      "text/latex": [
       "$$-  \\frac{\\partial}{\\partial R_{x}} \\operatorname{Ez}{\\left (R_{x},t \\right )}\\mathbf{\\hat{r}_y} + \\frac{\\partial}{\\partial R_{x}} \\operatorname{Ey}{\\left (R_{x},t \\right )}\\mathbf{\\hat{r}_z}$$"
      ],
      "text/plain": [
       "  ∂            \n",
       "-───(Ez(Rₓ, t))\n",
       " ∂Rₓ            r_y +  ∂            \n",
       "───(Ey(Rₓ, t))\n",
       "∂Rₓ            r_z"
      ]
     },
     "execution_count": 22,
     "metadata": {},
     "output_type": "execute_result"
    }
   ],
   "source": [
    "E = Ex*R.x + Ey*R.y + Ez*R.z\n",
    "B = Bx*R.x + By*R.y + Bz*R.z\n",
    "vec.curl(E, R)"
   ]
  },
  {
   "cell_type": "code",
   "execution_count": 31,
   "metadata": {
    "collapsed": true
   },
   "outputs": [],
   "source": [
    "jx= sp.Function('jx')(x, t)\n",
    "jy= sp.Function('jy')(x, t)\n",
    "jz= sp.Function('jz')(x, t)\n",
    "j = jx*R.x + jy*R.y +jz*R.z"
   ]
  },
  {
   "cell_type": "code",
   "execution_count": 32,
   "metadata": {},
   "outputs": [
    {
     "data": {
      "image/png": "[encoded data removed]",
      "text/latex": [
       "$$(\\frac{\\partial}{\\partial t} \\operatorname{By}{\\left (R_{x},t \\right )} + \\frac{\\partial}{\\partial R_{x}} \\operatorname{Ez}{\\left (R_{x},t \\right )})\\mathbf{\\hat{r}_y} + (\\frac{\\partial}{\\partial t} \\operatorname{Bz}{\\left (R_{x},t \\right )} - \\frac{\\partial}{\\partial R_{x}} \\operatorname{Ey}{\\left (R_{x},t \\right )})\\mathbf{\\hat{r}_z}$$"
      ],
      "text/plain": [
       "⎛∂                ∂            ⎞\n",
       "⎜──(By(Rₓ, t)) + ───(Ez(Rₓ, t))⎟\n",
       "⎝∂t              ∂Rₓ           ⎠ r_y + ⎛∂                ∂            ⎞\n",
       "⎜──(Bz(Rₓ, t)) - ───(Ey(Rₓ, t))⎟\n",
       "⎝∂t              ∂Rₓ           ⎠ r_z"
      ]
     },
     "execution_count": 32,
     "metadata": {},
     "output_type": "execute_result"
    }
   ],
   "source": [
    "# FARADAY = sp.Eq(vec.curl(E, R), -B.diff(t,R))\n",
    "FARADAY = B.diff(t, R)- vec.curl(E, R)\n",
    "FARADAY"
   ]
  },
  {
   "cell_type": "code",
   "execution_count": 36,
   "metadata": {},
   "outputs": [
    {
     "data": {
      "image/png": "[encoded data removed]",
      "text/latex": [
       "$$(- \\mu_{0} \\varepsilon_{0} \\frac{\\partial}{\\partial t} \\operatorname{Ex}{\\left (R_{x},t \\right )} - \\mu_{0} \\operatorname{jx}\\left(R_{x},t\\right))\\mathbf{\\hat{r}_x} + (- \\mu_{0} \\varepsilon_{0} \\frac{\\partial}{\\partial t} \\operatorname{Ey}{\\left (R_{x},t \\right )} - \\mu_{0} \\operatorname{jy}\\left(R_{x},t\\right) - \\frac{\\partial}{\\partial R_{x}} \\operatorname{Bz}{\\left (R_{x},t \\right )})\\mathbf{\\hat{r}_y} + (- \\mu_{0} \\varepsilon_{0} \\frac{\\partial}{\\partial t} \\operatorname{Ez}{\\left (R_{x},t \\right )} - \\mu_{0} \\operatorname{jz}\\left(R_{x},t\\right) + \\frac{\\partial}{\\partial R_{x}} \\operatorname{By}{\\left (R_{x},t \\right )})\\mathbf{\\hat{r}_z}$$"
      ],
      "text/plain": [
       "⎛                 ∂                           ⎞\n",
       "⎜- μ₀⋅varepsilon₀⋅──(Ex(Rₓ, t)) - μ₀⋅jx(Rₓ, t)⎟\n",
       "⎝                 ∂t                          ⎠ r_x + ⎛                 ∂                               ∂            ⎞\n",
       "⎜- μ₀⋅varepsilon₀⋅──(Ey(Rₓ, t)) - μ₀⋅jy(Rₓ, t) - ───(Bz(Rₓ, t))⎟\n",
       "⎝                 ∂t                             ∂Rₓ           ⎠ r_y + ⎛                 ∂                               ∂            ⎞\n",
       "⎜- μ₀⋅varepsilon₀⋅──(Ez(Rₓ, t)) - μ₀⋅jz(Rₓ, t) + ───(By(Rₓ, t))⎟\n",
       "⎝                 ∂t                             ∂Rₓ           ⎠ r_z"
      ]
     },
     "execution_count": 36,
     "metadata": {},
     "output_type": "execute_result"
    }
   ],
   "source": [
    "AMPERE = vec.curl(B, R) - mu * j - eps * mu * E.diff(t, R)\n",
    "AMPERE"
   ]
  },
  {
   "cell_type": "code",
   "execution_count": 38,
   "metadata": {},
   "outputs": [
    {
     "data": {
      "image/png": "[encoded data removed]",
      "text/latex": [
       "$$-  c \\mu_{0} \\left(\\varepsilon_{0} \\frac{\\partial}{\\partial t} \\operatorname{Ex}{\\left (R_{x},t \\right )} + \\operatorname{jx}\\left(R_{x},t\\right)\\right)\\mathbf{\\hat{r}_x} + (- c \\left(\\mu_{0} \\varepsilon_{0} \\frac{\\partial}{\\partial t} \\operatorname{Ey}{\\left (R_{x},t \\right )} + \\mu_{0} \\operatorname{jy}\\left(R_{x},t\\right) + \\frac{\\partial}{\\partial R_{x}} \\operatorname{Bz}{\\left (R_{x},t \\right )}\\right) + \\frac{\\partial}{\\partial t} \\operatorname{By}{\\left (R_{x},t \\right )} + \\frac{\\partial}{\\partial R_{x}} \\operatorname{Ez}{\\left (R_{x},t \\right )})\\mathbf{\\hat{r}_y} + (- c \\left(\\mu_{0} \\varepsilon_{0} \\frac{\\partial}{\\partial t} \\operatorname{Ez}{\\left (R_{x},t \\right )} + \\mu_{0} \\operatorname{jz}\\left(R_{x},t\\right) - \\frac{\\partial}{\\partial R_{x}} \\operatorname{By}{\\left (R_{x},t \\right )}\\right) + \\frac{\\partial}{\\partial t} \\operatorname{Bz}{\\left (R_{x},t \\right )} - \\frac{\\partial}{\\partial R_{x}} \\operatorname{Ey}{\\left (R_{x},t \\right )})\\mathbf{\\hat{r}_z}$$"
      ],
      "text/plain": [
       "      ⎛            ∂                        ⎞\n",
       "-c⋅μ₀⋅⎜varepsilon₀⋅──(Ex(Rₓ, t)) + jx(Rₓ, t)⎟\n",
       "      ⎝            ∂t                       ⎠ r_x + ⎛    ⎛               ∂                               ∂            ⎞   ∂                ∂            ⎞\n",
       "⎜- c⋅⎜μ₀⋅varepsilon₀⋅──(Ey(Rₓ, t)) + μ₀⋅jy(Rₓ, t) + ───(Bz(Rₓ, t))⎟ + ──(By(Rₓ, t)) + ───(Ez(Rₓ, t))⎟\n",
       "⎝    ⎝               ∂t                             ∂Rₓ           ⎠   ∂t              ∂Rₓ           ⎠ r_y + ⎛    ⎛               ∂                               ∂            ⎞   ∂                ∂            ⎞\n",
       "⎜- c⋅⎜μ₀⋅varepsilon₀⋅──(Ez(Rₓ, t)) + μ₀⋅jz(Rₓ, t) - ───(By(Rₓ, t))⎟ + ──(Bz(Rₓ, t)) - ───(Ey(Rₓ, t))⎟\n",
       "⎝    ⎝               ∂t                             ∂Rₓ           ⎠   ∂t              ∂Rₓ           ⎠ r_z"
      ]
     },
     "execution_count": 38,
     "metadata": {},
     "output_type": "execute_result"
    }
   ],
   "source": [
    "(FARADAY + c * AMPERE).simplify()"
   ]
  }
 ],
 "metadata": {
  "kernelspec": {
   "display_name": "Python 3",
   "language": "python",
   "name": "python3"
  },
  "language_info": {
   "codemirror_mode": {
    "name": "ipython",
    "version": 3
   },
   "file_extension": ".py",
   "mimetype": "text/x-python",
   "name": "python",
   "nbconvert_exporter": "python",
   "pygments_lexer": "ipython3",
   "version": "3.6.1"
  }
 },
 "nbformat": 4,
 "nbformat_minor": 2
}
